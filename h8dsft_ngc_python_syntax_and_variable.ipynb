{
  "cells": [
    {
      "cell_type": "markdown",
      "metadata": {
        "id": "-Sjt6MdVp-KB"
      },
      "source": [
        "# Non Graded Challenge 1\n",
        "Nama: Sinthiya Kusuma Nagari\n",
        "\n",
        "Batch: 010"
      ]
    },
    {
      "cell_type": "markdown",
      "metadata": {
        "id": "Z4u7tCVgqQQh"
      },
      "source": [
        "## TASK 1\n",
        "Given list of customer_id that doing transaction in 1 day\n",
        "\n",
        "How many unique customer_id from list?\n"
      ]
    },
    {
      "cell_type": "code",
      "execution_count": 1,
      "metadata": {
        "colab": {
          "base_uri": "https://localhost:8080/"
        },
        "id": "IKhTPb33p8Hg",
        "outputId": "1f441a16-b869-4bb2-df92-7141a3519c18"
      },
      "outputs": [
        {
          "name": "stdout",
          "output_type": "stream",
          "text": [
            "{'B341', 'A092', 'A082', 'B219', 'A901', 'B904', 'A461', 'A083', 'B818', 'B821', 'B439', 'A005'}\n",
            "unique value from customer_id= 12\n",
            "{'B341', 'A092', 'A082', 'B219', 'A901', 'B904', 'A461', 'A083', 'B818', 'B821', 'B439', 'A005'}\n"
          ]
        }
      ],
      "source": [
        "customer_id = ['B818', 'A461', 'A092', 'A082', 'B341', 'A005', 'A092', 'A461','B219', 'B904', 'A901', 'A083', 'B904', 'A092', 'B341', 'B821','B341', 'B821', 'B904', 'B818', 'A901', 'A083', 'B818', 'A082','B219', 'B219', 'A083', 'A901', 'A082', 'B341', 'B341', 'A083','A082', 'B219', 'B439', 'A461', 'A005', 'A901', 'B341', 'A082','A083', 'A461', 'A083', 'A901', 'A461', 'A083', 'A082', 'A083','B341', 'A901', 'A082', 'A461', 'B219', 'A083', 'B818', 'B821','A092', 'B341', 'A461', 'A092', 'A083', 'B821', 'A092']\n",
        "result=set(customer_id)\n",
        "print(result)\n",
        "print(f'unique value from customer_id= {len(result)}')\n",
        "print(result)"
      ]
    },
    {
      "cell_type": "markdown",
      "metadata": {
        "id": "R1DTqkwYq0Vg"
      },
      "source": [
        "## TASK 2\n",
        "Given list of:\n",
        "\n",
        "Data = [1, 4, 9, 16, 25, 36, 49,  64, 81, 100]\n",
        "\n",
        "Use indexing so you can get this\n",
        "\n",
        "output:\n",
        "\n",
        "a.16\n",
        "\n",
        "b.[36, 49, 64, 81]\n",
        "\n",
        "c.[100, 81, 64, 49, 36, 25, 16, 9, 4, 1]\n",
        "\n"
      ]
    },
    {
      "cell_type": "code",
      "execution_count": 2,
      "metadata": {
        "colab": {
          "base_uri": "https://localhost:8080/"
        },
        "id": "xMXesBGrrLhZ",
        "outputId": "af09bc61-8003-4d1a-feb4-01f531f1a650"
      },
      "outputs": [
        {
          "name": "stdout",
          "output_type": "stream",
          "text": [
            "16\n",
            "[36, 49, 64, 81]\n",
            "[100, 81, 64, 49, 36, 25, 16, 9, 4, 1]\n"
          ]
        }
      ],
      "source": [
        "Data = [1,4,9,16,25,36,49,64,81,100]\n",
        "a=Data[3]\n",
        "b=Data[5:9]\n",
        "c=Data[::-1]\n",
        "\n",
        "print(a)\n",
        "print(b)\n",
        "print(c)"
      ]
    },
    {
      "cell_type": "markdown",
      "metadata": {
        "id": "2lKA2cVmrbmO"
      },
      "source": [
        "## TASK 3\n",
        "What python command can be use to:\n",
        "\n",
        "a.Get list of keys available in dictionary\n",
        "\n",
        "b.Change 'Jawa Timur' value from 'Madiun'  to 'Surabaya'6\n"
      ]
    },
    {
      "cell_type": "code",
      "execution_count": 3,
      "metadata": {
        "colab": {
          "base_uri": "https://localhost:8080/"
        },
        "id": "GKt6yS6UrhCU",
        "outputId": "11f7932f-01d3-4f9e-8574-0b794715bca2"
      },
      "outputs": [
        {
          "name": "stdout",
          "output_type": "stream",
          "text": [
            "['Nanggroe Aceh Darussalam', 'Sumatera Selatan', 'Kalimantan Barat', 'Jawa Timur', 'Sulawesi Selatan', 'Maluku']\n"
          ]
        }
      ],
      "source": [
        "provinsi = {'Nanggroe Aceh Darussalam': 'Aceh',\n",
        "            'Sumatera Selatan': 'Palembang',\n",
        "            'Kalimantan Barat': 'Pontianak',\n",
        "            'Jawa Timur': 'Madiun',\n",
        "            'Sulawesi Selatan': 'Makassar',\n",
        "            'Maluku': 'Ambon'}\n",
        "\n",
        "keylist=[]\n",
        "for key in provinsi:\n",
        "  keylist.append(key)\n",
        "\n",
        "print (keylist)"
      ]
    },
    {
      "cell_type": "code",
      "execution_count": 4,
      "metadata": {
        "colab": {
          "base_uri": "https://localhost:8080/"
        },
        "id": "lyj5S4n5ryTv",
        "outputId": "5235d76e-27d2-498e-87e3-ed6dc0146e32"
      },
      "outputs": [
        {
          "data": {
            "text/plain": [
              "{'Nanggroe Aceh Darussalam': 'Aceh',\n",
              " 'Sumatera Selatan': 'Palembang',\n",
              " 'Kalimantan Barat': 'Pontianak',\n",
              " 'Jawa Timur': 'Surabaya',\n",
              " 'Sulawesi Selatan': 'Makassar',\n",
              " 'Maluku': 'Ambon'}"
            ]
          },
          "execution_count": 4,
          "metadata": {},
          "output_type": "execute_result"
        }
      ],
      "source": [
        "provinsi['Jawa Timur']='Surabaya'\n",
        "\n",
        "provinsi"
      ]
    }
  ],
  "metadata": {
    "colab": {
      "provenance": []
    },
    "kernelspec": {
      "display_name": "Python 3",
      "name": "python3"
    },
    "language_info": {
      "codemirror_mode": {
        "name": "ipython",
        "version": 3
      },
      "file_extension": ".py",
      "mimetype": "text/x-python",
      "name": "python",
      "nbconvert_exporter": "python",
      "pygments_lexer": "ipython3",
      "version": "3.9.5"
    }
  },
  "nbformat": 4,
  "nbformat_minor": 0
}
