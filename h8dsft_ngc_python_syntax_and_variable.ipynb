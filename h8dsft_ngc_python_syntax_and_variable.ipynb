{
  "nbformat": 4,
  "nbformat_minor": 0,
  "metadata": {
    "colab": {
      "provenance": []
    },
    "kernelspec": {
      "name": "python3",
      "display_name": "Python 3"
    },
    "language_info": {
      "name": "python"
    }
  },
  "cells": [
    {
      "cell_type": "markdown",
      "source": [
        "# Non Graded Challenge 1\n",
        "Nama: Sinthiya Kusuma Nagari\n",
        "\n",
        "Batch: 010"
      ],
      "metadata": {
        "id": "-Sjt6MdVp-KB"
      }
    },
    {
      "cell_type": "markdown",
      "source": [
        "## TASK 1\n",
        "Given list of customer_id that doing transaction in 1 day\n",
        "\n",
        "How many unique customer_id from list?\n"
      ],
      "metadata": {
        "id": "Z4u7tCVgqQQh"
      }
    },
    {
      "cell_type": "code",
      "execution_count": 4,
      "metadata": {
        "colab": {
          "base_uri": "https://localhost:8080/"
        },
        "id": "IKhTPb33p8Hg",
        "outputId": "1f441a16-b869-4bb2-df92-7141a3519c18"
      },
      "outputs": [
        {
          "output_type": "stream",
          "name": "stdout",
          "text": [
            "{'A092', 'B341', 'A901', 'B219', 'B818', 'B439', 'A005', 'B821', 'A082', 'A461', 'A083', 'B904'}\n",
            "unique value from customer_id= 12\n"
          ]
        }
      ],
      "source": [
        "customer_id = ['B818', 'A461', 'A092', 'A082', 'B341', 'A005', 'A092', 'A461','B219', 'B904', 'A901', 'A083', 'B904', 'A092', 'B341', 'B821','B341', 'B821', 'B904', 'B818', 'A901', 'A083', 'B818', 'A082','B219', 'B219', 'A083', 'A901', 'A082', 'B341', 'B341', 'A083','A082', 'B219', 'B439', 'A461', 'A005', 'A901', 'B341', 'A082','A083', 'A461', 'A083', 'A901', 'A461', 'A083', 'A082', 'A083','B341', 'A901', 'A082', 'A461', 'B219', 'A083', 'B818', 'B821','A092', 'B341', 'A461', 'A092', 'A083', 'B821', 'A092']\n",
        "result=set(customer_id)\n",
        "print(result)\n",
        "print(f'unique value from customer_id= {len(result)}')\n"
      ]
    },
    {
      "cell_type": "markdown",
      "source": [
        "## TASK 2\n",
        "Given list of:\n",
        "\n",
        "Data = [1, 4, 9, 16, 25, 36, 49,  64, 81, 100]\n",
        "\n",
        "Use indexing so you can get this\n",
        "\n",
        "output:\n",
        "\n",
        "a.16\n",
        "\n",
        "b.[36, 49, 64, 81]\n",
        "\n",
        "c.[100, 81, 64, 49, 36, 25, 16, 9, 4, 1]\n",
        "\n"
      ],
      "metadata": {
        "id": "R1DTqkwYq0Vg"
      }
    },
    {
      "cell_type": "code",
      "source": [
        "Data = [1,4,9,16,25,36,49,64,81,100]\n",
        "a=Data[3]\n",
        "b=Data[5:9]\n",
        "c=Data[::-1]\n",
        "\n",
        "print(a)\n",
        "print(b)\n",
        "print(c)"
      ],
      "metadata": {
        "colab": {
          "base_uri": "https://localhost:8080/"
        },
        "id": "xMXesBGrrLhZ",
        "outputId": "af09bc61-8003-4d1a-feb4-01f531f1a650"
      },
      "execution_count": 5,
      "outputs": [
        {
          "output_type": "stream",
          "name": "stdout",
          "text": [
            "16\n",
            "[36, 49, 64, 81]\n",
            "[100, 81, 64, 49, 36, 25, 16, 9, 4, 1]\n"
          ]
        }
      ]
    },
    {
      "cell_type": "markdown",
      "source": [
        "## TASK 3\n",
        "What python command can be use to:\n",
        "\n",
        "a.Get list of keys available in dictionary\n",
        "\n",
        "b.Change 'Jawa Timur' value from 'Madiun'  to 'Surabaya'6\n"
      ],
      "metadata": {
        "id": "2lKA2cVmrbmO"
      }
    },
    {
      "cell_type": "code",
      "source": [
        "provinsi = {'Nanggroe Aceh Darussalam': 'Aceh',\n",
        "            'Sumatera Selatan': 'Palembang',\n",
        "            'Kalimantan Barat': 'Pontianak',\n",
        "            'Jawa Timur': 'Madiun',\n",
        "            'Sulawesi Selatan': 'Makassar',\n",
        "            'Maluku': 'Ambon'}\n",
        "\n",
        "keylist=[]\n",
        "for key in provinsi:\n",
        "  keylist.append(key)\n",
        "\n",
        "print (keylist)"
      ],
      "metadata": {
        "colab": {
          "base_uri": "https://localhost:8080/"
        },
        "id": "GKt6yS6UrhCU",
        "outputId": "11f7932f-01d3-4f9e-8574-0b794715bca2"
      },
      "execution_count": 7,
      "outputs": [
        {
          "output_type": "stream",
          "name": "stdout",
          "text": [
            "['Nanggroe Aceh Darussalam', 'Sumatera Selatan', 'Kalimantan Barat', 'Jawa Timur', 'Sulawesi Selatan', 'Maluku']\n"
          ]
        }
      ]
    },
    {
      "cell_type": "code",
      "source": [
        "provinsi['Jawa Timur']='Surabaya'\n",
        "\n",
        "provinsi"
      ],
      "metadata": {
        "colab": {
          "base_uri": "https://localhost:8080/"
        },
        "id": "lyj5S4n5ryTv",
        "outputId": "5235d76e-27d2-498e-87e3-ed6dc0146e32"
      },
      "execution_count": 8,
      "outputs": [
        {
          "output_type": "execute_result",
          "data": {
            "text/plain": [
              "{'Nanggroe Aceh Darussalam': 'Aceh',\n",
              " 'Sumatera Selatan': 'Palembang',\n",
              " 'Kalimantan Barat': 'Pontianak',\n",
              " 'Jawa Timur': 'Surabaya',\n",
              " 'Sulawesi Selatan': 'Makassar',\n",
              " 'Maluku': 'Ambon'}"
            ]
          },
          "metadata": {},
          "execution_count": 8
        }
      ]
    }
  ]
}